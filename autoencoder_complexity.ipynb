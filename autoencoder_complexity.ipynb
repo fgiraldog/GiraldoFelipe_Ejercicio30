{
 "cells": [
  {
   "cell_type": "code",
   "execution_count": 1,
   "metadata": {},
   "outputs": [],
   "source": [
    "import numpy as np\n",
    "import matplotlib.pyplot as plt\n",
    "import torch\n",
    "import torchvision\n",
    "import torchvision.datasets\n",
    "import torchvision.models\n",
    "import torchvision.transforms\n",
    "import sklearn.datasets\n",
    "import sklearn.preprocessing\n",
    "import sklearn.model_selection"
   ]
  },
  {
   "cell_type": "code",
   "execution_count": 2,
   "metadata": {},
   "outputs": [],
   "source": [
    "numeros = sklearn.datasets.load_digits()\n",
    "imagenes = numeros['images']  # Hay 1797 digitos representados en imagenes 8x8\n",
    "n_imagenes = len(imagenes)\n",
    "x = imagenes\n",
    "y = numeros['target']"
   ]
  },
  {
   "cell_type": "code",
   "execution_count": 3,
   "metadata": {},
   "outputs": [
    {
     "data": {
      "image/png": "[encoded data removed]",
      "text/plain": [
       "<Figure size 1008x360 with 5 Axes>"
      ]
     },
     "metadata": {
      "needs_background": "light"
     },
     "output_type": "display_data"
    }
   ],
   "source": [
    "random_items = np.random.choice(np.arange(n_imagenes), 5)\n",
    "\n",
    "plt.figure(figsize=(14,5))\n",
    "for i in range(5):\n",
    "    plt.subplot(1,5,i+1)\n",
    "    item  = random_items[i]\n",
    "    plt.imshow(x[item])\n",
    "    plt.title(y[item])"
   ]
  },
  {
   "cell_type": "code",
   "execution_count": 4,
   "metadata": {},
   "outputs": [
    {
     "name": "stdout",
     "output_type": "stream",
     "text": [
      "torch.Size([1797, 8, 8]) torch.Size([1797])\n",
      "torch.Size([1797, 8, 8])\n"
     ]
    }
   ],
   "source": [
    "x = torch.autograd.Variable(torch.Tensor(x).float())\n",
    "y = torch.autograd.Variable(torch.Tensor(y).long())\n",
    "print(x.shape,y.shape)\n",
    "\n",
    "mean = x.mean(dim=0)\n",
    "std = x.std(dim=0)\n",
    "std[std==0]=1.0\n",
    "\n",
    "for i in range(len(x)):\n",
    "    x[i] = (x[i]-mean)/std\n",
    "\n",
    "print(np.shape(x))"
   ]
  },
  {
   "cell_type": "code",
   "execution_count": 5,
   "metadata": {},
   "outputs": [
    {
     "name": "stdout",
     "output_type": "stream",
     "text": [
      "torch.Size([1797, 1, 8, 8])\n"
     ]
    }
   ],
   "source": [
    "x = x.unsqueeze(1)\n",
    "print(np.shape(x))"
   ]
  },
  {
   "cell_type": "code",
   "execution_count": 6,
   "metadata": {},
   "outputs": [],
   "source": [
    "class Autoencoder1Conv(torch.nn.Module): # kernel 1, 7 # l_s 8, 2\n",
    "    def __init__(self,kernel):\n",
    "        super(Autoencoder1Conv,self).__init__()\n",
    "        self.kernel = kernel\n",
    "        self.encoder = torch.nn.Sequential(\n",
    "            torch.nn.Conv2d(1,15,self.kernel,1))\n",
    "        self.decoder = torch.nn.Sequential(\n",
    "            torch.nn.ConvTranspose2d(15,1,self.kernel,1))\n",
    "    def forward(self,x):\n",
    "        x = self.encoder(x)\n",
    "        x = self.decoder(x)\n",
    "        return x\n",
    "    \n",
    "class Autoencoder2Conv(torch.nn.Module): # kernel 4, 3, 2, 1  # l_s 4, 5, 6, 7\n",
    "    def __init__(self,kernel):\n",
    "        super(Autoencoder2Conv,self).__init__()\n",
    "        self.kernel = kernel\n",
    "        self.encoder = torch.nn.Sequential(\n",
    "            torch.nn.Conv2d(1,15,self.kernel,1),\n",
    "            torch.nn.Conv2d(15,7,2,1))\n",
    "        self.decoder = torch.nn.Sequential(\n",
    "            torch.nn.ConvTranspose2d(7,15,2,1),\n",
    "            torch.nn.ConvTranspose2d(15,1,self.kernel,1))\n",
    "    def forward(self,x):\n",
    "        x = self.encoder(x)\n",
    "        x = self.decoder(x)\n",
    "        return x\n",
    "\n",
    "\n",
    "class Autoencoder3Conv(torch.nn.Module): #kernel 5, 4, 3, 2 # l_s 2, 3, 4, 5\n",
    "    def __init__(self,kernel):\n",
    "        super(Autoencoder3Conv,self).__init__()\n",
    "        self.kernel = kernel\n",
    "        self.encoder = torch.nn.Sequential(\n",
    "            torch.nn.Conv2d(1,15,self.kernel,1),\n",
    "            torch.nn.Conv2d(15,7,2,1),\n",
    "            torch.nn.Conv2d(7,5,2,1))\n",
    "        self.decoder = torch.nn.Sequential(\n",
    "            torch.nn.ConvTranspose2d(5,7,2,1),\n",
    "            torch.nn.ConvTranspose2d(7,15,2,1),\n",
    "            torch.nn.ConvTranspose2d(15,1,self.kernel,1))\n",
    "    def forward(self,x):\n",
    "        x = self.encoder(x)\n",
    "        x = self.decoder(x)\n",
    "        return x"
   ]
  },
  {
   "cell_type": "code",
   "execution_count": 7,
   "metadata": {},
   "outputs": [],
   "source": [
    "conv1 = [1,7]\n",
    "conv2 = [5,4,3,2]\n",
    "conv3 = [4,3,2,1]\n",
    "num_epochs = 100\n",
    "loss_arr = []\n",
    "N_L = []\n",
    "N_C = []\n",
    "\n",
    "for element in conv1:\n",
    "    #model training\n",
    "    model = Autoencoder1Conv(element)\n",
    "    distance = torch.nn.MSELoss()\n",
    "    optimizer = torch.optim.Adam(model.parameters(), lr=0.005, weight_decay=1E-4)\n",
    "    for epoch in range(num_epochs):\n",
    "        output = model(x)\n",
    "        loss = distance(output, x)\n",
    "        optimizer.zero_grad()\n",
    "        loss.backward()\n",
    "        optimizer.step()\n",
    "    \n",
    "    #loss\n",
    "    output = model(x)\n",
    "    loss = distance(output, x)\n",
    "    loss_arr.append(loss)\n",
    "    \n",
    "    #number of parameters\n",
    "    n_c = 0\n",
    "    for m in model.parameters():\n",
    "        n_c += m.flatten().size()[0]\n",
    "    N_C.append(n_c)\n",
    "    \n",
    "    #latent space\n",
    "    latent_space = model.encoder(x)\n",
    "    n_l = np.shape(latent_space[0][2].detach().numpy())[0]\n",
    "    N_L.append(n_l)\n",
    "\n",
    "for element in conv2:\n",
    "    #model training\n",
    "    model = Autoencoder2Conv(element)\n",
    "    distance = torch.nn.MSELoss()\n",
    "    optimizer = torch.optim.Adam(model.parameters(), lr=0.005, weight_decay=1E-4)\n",
    "    for epoch in range(num_epochs):\n",
    "        output = model(x)\n",
    "        loss = distance(output, x)\n",
    "        optimizer.zero_grad()\n",
    "        loss.backward()\n",
    "        optimizer.step()\n",
    "    \n",
    "    #loss\n",
    "    output = model(x)\n",
    "    loss = distance(output, x)\n",
    "    loss_arr.append(loss)\n",
    "    \n",
    "    #number of parameters\n",
    "    n_c = 0\n",
    "    for m in model.parameters():\n",
    "        n_c += m.flatten().size()[0]\n",
    "    N_C.append(n_c)\n",
    "    \n",
    "    #latent space\n",
    "    latent_space = model.encoder(x)\n",
    "    n_l = np.shape(latent_space[0][2].detach().numpy())[0]\n",
    "    N_L.append(n_l)\n",
    "\n",
    "for element in conv3:\n",
    "    #model training\n",
    "    model = Autoencoder3Conv(element)\n",
    "    distance = torch.nn.MSELoss()\n",
    "    optimizer = torch.optim.Adam(model.parameters(), lr=0.005, weight_decay=1E-4)\n",
    "    for epoch in range(num_epochs):\n",
    "        output = model(x)\n",
    "        loss = distance(output, x)\n",
    "        optimizer.zero_grad()\n",
    "        loss.backward()\n",
    "        optimizer.step()\n",
    "    \n",
    "    #loss\n",
    "    output = model(x)\n",
    "    loss = distance(output, x)\n",
    "    loss_arr.append(loss)\n",
    "    \n",
    "    #number of parameters\n",
    "    n_c = 0\n",
    "    for m in model.parameters():\n",
    "        n_c += m.flatten().size()[0]\n",
    "    N_C.append(n_c)\n",
    "    \n",
    "    #latent space\n",
    "    latent_space = model.encoder(x)\n",
    "    n_l = np.shape(latent_space[0][2].detach().numpy())[0]\n",
    "    N_L.append(n_l)"
   ]
  },
  {
   "cell_type": "code",
   "execution_count": 20,
   "metadata": {},
   "outputs": [
    {
     "data": {
      "text/plain": [
       "Text(0, 0.5, 'N_C')"
      ]
     },
     "execution_count": 20,
     "metadata": {},
     "output_type": "execute_result"
    },
    {
     "data": {
      "image/png": "[encoded data removed]",
      "text/plain": [
       "<Figure size 1224x360 with 3 Axes>"
      ]
     },
     "metadata": {
      "needs_background": "light"
     },
     "output_type": "display_data"
    }
   ],
   "source": [
    "loss_arr = np.array(loss_arr)\n",
    "N_C = np.array(N_C)\n",
    "N_L = np.array(N_L)\n",
    "plt.figure(figsize = (17,5))\n",
    "plt.subplot(131)\n",
    "plt.scatter(loss_arr,N_C)\n",
    "plt.xlabel('loss')\n",
    "plt.ylabel('N_C')\n",
    "plt.subplot(132)\n",
    "plt.scatter(loss_arr, N_L)\n",
    "plt.xlabel('loss')\n",
    "plt.ylabel('N_L')\n",
    "plt.subplot(133)\n",
    "plt.scatter(N_L, N_C)\n",
    "plt.xlabel('N_L')\n",
    "plt.ylabel('N_C')"
   ]
  },
  {
   "cell_type": "code",
   "execution_count": 21,
   "metadata": {},
   "outputs": [
    {
     "data": {
      "text/plain": [
       "Text(0, 0.5, 'N_L')"
      ]
     },
     "execution_count": 21,
     "metadata": {},
     "output_type": "execute_result"
    },
    {
     "data": {
      "image/png": "[encoded data removed]",
      "text/plain": [
       "<Figure size 1224x360 with 3 Axes>"
      ]
     },
     "metadata": {
      "needs_background": "light"
     },
     "output_type": "display_data"
    }
   ],
   "source": [
    "loss_arr = np.array(loss_arr)\n",
    "N_C = np.array(N_C)\n",
    "N_L = np.array(N_L)\n",
    "plt.figure(figsize = (17,5))\n",
    "plt.subplot(131)\n",
    "plt.scatter(N_C,loss_arr)\n",
    "plt.xlabel('N_C')\n",
    "plt.ylabel('loss')\n",
    "plt.subplot(132)\n",
    "plt.scatter(N_L,loss_arr)\n",
    "plt.xlabel('N_L')\n",
    "plt.ylabel('loss')\n",
    "plt.subplot(133)\n",
    "plt.scatter(N_C, N_L)\n",
    "plt.xlabel('N_C')\n",
    "plt.ylabel('N_L')"
   ]
  },
  {
   "cell_type": "markdown",
   "metadata": {},
   "source": [
    "Si bien los resultados no son muy claros, si parece haber una entendencia en los resultados. De la primera gráfica a la izquierda, se ve que entre más complejo sea el modelo, el loss va siendo mayor. De la segunda se ve que entre más grande sea la dimensión del espacio latente, el loss va bajando (como la entrada son imágenes 8x8, cuando el espacio latente es de 8x8, el loss es el mejor). Y por último, a la derecha se ve claramente como entre más compleja sea la arquitectura de la red, las dimensiones del espacio latente serán más pequeñas, lo cual tiene mucho sentido. Es importante mencionar que hay dimensiones de espacios latentes repetidas, y por esta razón las gráficas dan extrañas, pero las tendencias están. Ahora bien, considerando que la idea de un autoenconder es bajar la dimensionalidad del problema, se debería buscar un balance entre el loss, y el tamaño del espacio latente. Un resultado muy bueno, se ve que es N_C $\\approx$ 1400, loss $\\approx$ 0.05 y N_L 4. Este modelo mantiene un buen loss, y logra reducir la dimensionalidad de las imágenes de entrada "
   ]
  },
  {
   "cell_type": "code",
   "execution_count": null,
   "metadata": {},
   "outputs": [],
   "source": []
  }
 ],
 "metadata": {
  "kernelspec": {
   "display_name": "Python 3",
   "language": "python",
   "name": "python3"
  },
  "language_info": {
   "codemirror_mode": {
    "name": "ipython",
    "version": 3
   },
   "file_extension": ".py",
   "mimetype": "text/x-python",
   "name": "python",
   "nbconvert_exporter": "python",
   "pygments_lexer": "ipython3",
   "version": "3.7.4"
  }
 },
 "nbformat": 4,
 "nbformat_minor": 2
}
